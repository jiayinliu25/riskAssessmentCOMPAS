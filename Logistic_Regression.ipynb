{
 "cells": [
  {
   "cell_type": "code",
   "execution_count": 25,
   "metadata": {},
   "outputs": [],
   "source": [
    "import pandas as pd\n",
    "from sklearn.model_selection import train_test_split\n",
    "from sklearn.linear_model import LogisticRegression\n",
    "from sklearn.metrics import accuracy_score, classification_report, confusion_matrix\n",
    "from sklearn.preprocessing import OneHotEncoder\n",
    "import warnings\n",
    "\n",
    "warnings.filterwarnings('ignore', category=FutureWarning, module='sklearn')\n",
    "\n",
    "compas = pd.read_csv('data/compas-scores-two-years-violent.csv')\n"
   ]
  },
  {
   "cell_type": "code",
   "execution_count": 26,
   "metadata": {},
   "outputs": [
    {
     "name": "stdout",
     "output_type": "stream",
     "text": [
      "              precision    recall  f1-score   support\n",
      "\n",
      "           0       0.83      0.99      0.90       785\n",
      "           1       0.50      0.07      0.12       164\n",
      "\n",
      "    accuracy                           0.83       949\n",
      "   macro avg       0.67      0.53      0.51       949\n",
      "weighted avg       0.78      0.83      0.77       949\n",
      "\n"
     ]
    }
   ],
   "source": [
    "# Two feature logistic regression model\n",
    "\n",
    "# Selecting features and target\n",
    "features = compas[['age', 'priors_count']]\n",
    "target = compas['two_year_recid']\n",
    "\n",
    "# Splitting the data into training and testing sets\n",
    "train_features, test_features, train_target, test_target = train_test_split(features, target, test_size=0.2, random_state=42)\n",
    "\n",
    "# Initializing and training the logistic regression model\n",
    "model = LogisticRegression()\n",
    "model.fit(train_features, train_target)\n",
    "\n",
    "# Making predictions\n",
    "predicted_classes = model.predict(test_features)\n",
    "\n",
    "# Model Eval\n",
    "accuracy = accuracy_score(test_target, predicted_classes)\n",
    "report = classification_report(test_target, predicted_classes)\n",
    "conf_matrix = confusion_matrix(test_target, predicted_classes)\n",
    "\n",
    "print(report)"
   ]
  },
  {
   "cell_type": "code",
   "execution_count": 27,
   "metadata": {},
   "outputs": [
    {
     "name": "stdout",
     "output_type": "stream",
     "text": [
      "Confusion Matrix for Your Model:\n",
      "[[3925   43]\n",
      " [ 719   56]]\n",
      "Confusion Matrix for COMPAS:\n",
      "[[3341  627]\n",
      " [ 433  342]]\n"
     ]
    }
   ],
   "source": [
    "# Confusion Matrix for two feature model and COMPAS\n",
    "\n",
    "# Matrix for our model\n",
    "predicted_reoffend = model.predict(features)\n",
    "conf_matrix_model = confusion_matrix(compas['two_year_recid'], predicted_reoffend)\n",
    "\n",
    "print(\"Confusion Matrix for Your Model:\")\n",
    "print(conf_matrix_model)\n",
    "\n",
    "# COMPAS' matrix\n",
    "compas_predictions = (compas['v_decile_score'] > 5).astype(int)\n",
    "conf_matrix_compas = confusion_matrix(compas['two_year_recid'], compas_predictions)\n",
    "\n",
    "print(\"Confusion Matrix for COMPAS:\")\n",
    "print(conf_matrix_compas)\n"
   ]
  },
  {
   "cell_type": "code",
   "execution_count": 28,
   "metadata": {},
   "outputs": [
    {
     "name": "stdout",
     "output_type": "stream",
     "text": [
      "              precision    recall  f1-score   support\n",
      "\n",
      "           0       0.84      0.99      0.91       785\n",
      "           1       0.58      0.09      0.15       164\n",
      "\n",
      "    accuracy                           0.83       949\n",
      "   macro avg       0.71      0.54      0.53       949\n",
      "weighted avg       0.79      0.83      0.78       949\n",
      "\n"
     ]
    }
   ],
   "source": [
    "# Logistic Regression Model using features accumulated from recursive feature selection\n",
    "\n",
    "compas.reset_index(drop=True, inplace=True)\n",
    "\n",
    "# Encode categorical variables\n",
    "encoder = OneHotEncoder(sparse=False, drop='first')\n",
    "categorical_features = encoder.fit_transform(compas[['sex', 'age_cat']])\n",
    "\n",
    "encoded_df = pd.DataFrame(categorical_features, columns=encoder.get_feature_names_out(['sex', 'age_cat']))\n",
    "encoded_df.reset_index(drop=True, inplace=True)\n",
    "\n",
    "# Concatenate the encoded features the dataframe\n",
    "compas_encoded = pd.concat([compas, encoded_df], axis=1)\n",
    "\n",
    "# New features include age category, sex, juvenile misdemeanor count, other juvenile misconduct count, prior convictions count\n",
    "feature_names = list(encoder.get_feature_names_out(['sex', 'age_cat'])) + ['juv_misd_count', 'juv_other_count', 'priors_count.1']\n",
    "features = compas_encoded[feature_names]\n",
    "target = compas_encoded['two_year_recid']\n",
    "\n",
    "train_features, test_features, train_target, test_target = train_test_split(features, target, test_size=0.2, random_state=42)\n",
    "\n",
    "model = LogisticRegression()\n",
    "model.fit(train_features, train_target)\n",
    "\n",
    "predicted_classes = model.predict(test_features)\n",
    "\n",
    "accuracy = accuracy_score(test_target, predicted_classes)\n",
    "report = classification_report(test_target, predicted_classes)\n",
    "\n",
    "print(report)"
   ]
  },
  {
   "cell_type": "code",
   "execution_count": 29,
   "metadata": {},
   "outputs": [
    {
     "name": "stdout",
     "output_type": "stream",
     "text": [
      "Confusion Matrix for Your Model:\n",
      "[[3925   43]\n",
      " [ 717   58]]\n",
      "Confusion Matrix for COMPAS:\n",
      "[[3341  627]\n",
      " [ 433  342]]\n"
     ]
    }
   ],
   "source": [
    "# Confusion Matrix for 5-feature model\n",
    "\n",
    "predicted_reoffend = model.predict(features)\n",
    "\n",
    "conf_matrix_model = confusion_matrix(compas['two_year_recid'], predicted_reoffend)\n",
    "\n",
    "print(\"Confusion Matrix for Your Model:\")\n",
    "print(conf_matrix_model)\n",
    "\n",
    "compas_predictions = (compas['v_decile_score'] > 5).astype(int)\n",
    "\n",
    "conf_matrix_compas = confusion_matrix(compas['two_year_recid'], compas_predictions)\n",
    "\n",
    "print(\"Confusion Matrix for COMPAS:\")\n",
    "print(conf_matrix_compas)\n",
    "\n"
   ]
  },
  {
   "cell_type": "code",
   "execution_count": 30,
   "metadata": {},
   "outputs": [],
   "source": [
    "# Now using resampled data\n",
    "compas_1 = pd.read_csv('combined_resample.csv')\n",
    "\n",
    "# Encode gender in compas dataframe so that both compas_1 and compas have same categories for sex\n",
    "compas['sex'] = compas['sex'].map({'Male': 1, 'Female': 0})"
   ]
  },
  {
   "cell_type": "code",
   "execution_count": 31,
   "metadata": {},
   "outputs": [
    {
     "name": "stdout",
     "output_type": "stream",
     "text": [
      "              precision    recall  f1-score   support\n",
      "\n",
      "           0       0.84      0.99      0.91      3968\n",
      "           1       0.55      0.07      0.12       775\n",
      "\n",
      "    accuracy                           0.84      4743\n",
      "   macro avg       0.70      0.53      0.51      4743\n",
      "weighted avg       0.80      0.84      0.78      4743\n",
      "\n"
     ]
    }
   ],
   "source": [
    "# Two-feature regression model using resampled data\n",
    "\n",
    "# train using compas_1 (resampled)\n",
    "train_features = compas_1[['age', 'priors_count']]\n",
    "train_target = compas_1['two_year_recid']\n",
    "\n",
    "model = LogisticRegression()\n",
    "model.fit(train_features, train_target)\n",
    "\n",
    "# test using compas (original data)\n",
    "test_features = compas[['age', 'priors_count']]\n",
    "test_target = compas['two_year_recid']\n",
    "\n",
    "predicted_classes = model.predict(test_features)\n",
    "\n",
    "accuracy = accuracy_score(test_target, predicted_classes)\n",
    "report = classification_report(test_target, predicted_classes)\n",
    "conf_matrix = confusion_matrix(test_target, predicted_classes)\n",
    "\n",
    "print(report)"
   ]
  },
  {
   "cell_type": "code",
   "execution_count": 32,
   "metadata": {},
   "outputs": [
    {
     "name": "stdout",
     "output_type": "stream",
     "text": [
      "Confusion Matrix for Your Model:\n",
      "[[3926   42]\n",
      " [ 724   51]]\n",
      "Confusion Matrix for COMPAS:\n",
      "[[3341  627]\n",
      " [ 433  342]]\n"
     ]
    }
   ],
   "source": [
    "# Confusion matrix for resampled two-feature model\n",
    "\n",
    "predicted_reoffend = model.predict(test_features)\n",
    "\n",
    "conf_matrix_model = confusion_matrix(compas['two_year_recid'], predicted_reoffend)\n",
    "\n",
    "print(\"Confusion Matrix for Your Model:\")\n",
    "print(conf_matrix_model)\n",
    "\n",
    "compas_predictions = (compas['v_decile_score'] > 5).astype(int)\n",
    "\n",
    "conf_matrix_compas = confusion_matrix(compas['two_year_recid'], compas_predictions)\n",
    "\n",
    "print(\"Confusion Matrix for COMPAS:\")\n",
    "print(conf_matrix_compas)\n"
   ]
  },
  {
   "cell_type": "code",
   "execution_count": 33,
   "metadata": {},
   "outputs": [
    {
     "name": "stdout",
     "output_type": "stream",
     "text": [
      "              precision    recall  f1-score   support\n",
      "\n",
      "           0       0.85      0.99      0.91      3968\n",
      "           1       0.57      0.08      0.14       775\n",
      "\n",
      "    accuracy                           0.84      4743\n",
      "   macro avg       0.71      0.53      0.53      4743\n",
      "weighted avg       0.80      0.84      0.79      4743\n",
      "\n"
     ]
    }
   ],
   "source": [
    "# Function to preprocess a dataframe (original method of encoding didn't work)\n",
    "def preprocess_df(df):\n",
    "    df.reset_index(drop=True, inplace=True)\n",
    "    encoder = OneHotEncoder(sparse=False, drop='first')\n",
    "    categorical_features = encoder.fit_transform(df[['sex', 'age_cat']])\n",
    "    encoded_df = pd.DataFrame(categorical_features, columns=encoder.get_feature_names_out(['sex', 'age_cat']))\n",
    "    df_encoded = pd.concat([df, encoded_df], axis=1)\n",
    "    feature_names = list(encoder.get_feature_names_out(['sex', 'age_cat'])) + ['juv_misd_count', 'juv_other_count', 'priors_count.1']\n",
    "    features = df_encoded[feature_names]\n",
    "    return features, df_encoded['two_year_recid'], encoder\n",
    "\n",
    "# Preprocess the training data (compas_1)\n",
    "train_features, train_target, encoder = preprocess_df(compas_1)\n",
    "\n",
    "model = LogisticRegression()\n",
    "model.fit(train_features, train_target)\n",
    "\n",
    "# Preprocess the testing data (compas) using the same encoder\n",
    "test_features, test_target, _ = preprocess_df(compas)\n",
    "\n",
    "predicted_classes = model.predict(test_features)\n",
    "\n",
    "accuracy = accuracy_score(test_target, predicted_classes)\n",
    "report = classification_report(test_target, predicted_classes)\n",
    "conf_matrix = confusion_matrix(test_target, predicted_classes)\n",
    "\n",
    "print(report)\n"
   ]
  },
  {
   "cell_type": "code",
   "execution_count": 34,
   "metadata": {},
   "outputs": [
    {
     "name": "stdout",
     "output_type": "stream",
     "text": [
      "Confusion Matrix for Your Model:\n",
      "[[3921   47]\n",
      " [ 712   63]]\n",
      "Confusion Matrix for COMPAS:\n",
      "[[3341  627]\n",
      " [ 433  342]]\n"
     ]
    }
   ],
   "source": [
    "# Confusion matrix for 5-feature model with resampled data\n",
    "\n",
    "test_predicted_reoffend = model.predict(test_features)\n",
    "\n",
    "conf_matrix_model = confusion_matrix(test_target, test_predicted_reoffend)\n",
    "\n",
    "print(\"Confusion Matrix for Your Model:\")\n",
    "print(conf_matrix_model)\n",
    "\n",
    "compas_test_predictions = (compas.loc[test_features.index, 'v_decile_score'] > 5).astype(int)\n",
    "\n",
    "conf_matrix_compas = confusion_matrix(test_target, compas_test_predictions)\n",
    "\n",
    "print(\"Confusion Matrix for COMPAS:\")\n",
    "print(conf_matrix_compas)"
   ]
  },
  {
   "cell_type": "code",
   "execution_count": null,
   "metadata": {},
   "outputs": [],
   "source": []
  }
 ],
 "metadata": {
  "kernelspec": {
   "display_name": "Python 3 (ipykernel)",
   "language": "python",
   "name": "python3"
  },
  "language_info": {
   "codemirror_mode": {
    "name": "ipython",
    "version": 3
   },
   "file_extension": ".py",
   "mimetype": "text/x-python",
   "name": "python",
   "nbconvert_exporter": "python",
   "pygments_lexer": "ipython3",
   "version": "3.11.4"
  }
 },
 "nbformat": 4,
 "nbformat_minor": 2
}
