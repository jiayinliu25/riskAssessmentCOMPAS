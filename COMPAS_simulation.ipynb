{
 "cells": [
  {
   "cell_type": "markdown",
   "metadata": {},
   "source": [
    "# Simulation of COMPAS Risk Assessment \n",
    "### Goal: create a basic simulation to illustrate the concept of a risk assessment algorithm.\n",
    "\n",
    "### From Literature Review: \n",
    "- Violent Recidivism Risk Scale: inputs include history of violence, history of non-compliance.. Etc.\n",
    "- The scale is constructed from the history of noncompliance scale, Vocational Education Scale, current age, age-at-first-arrest, history of violence scale \n",
    "- Each item is then multiplied by weight (w) whose size is determined by the strength of the item’s relationship to person offense recidivism. The weighted items are then added together: \n",
    "\n",
    "VRRS = (age * -w) + (age-at-first-arrest * -w) + (history of violence * -w) + (vocation education * w) + (history of noncompliance * w ) \n",
    "\n",
    "- The resulting scale scores are transformed into decile scores range from 1 (low) to 10 (high) and the deciles are obtained by ranking the scale scores of a normative group in ascending order and divided into 10 groups\n",
    "        Ex. 1- 4 scale score is low relative to other offenders in norm group \n"
   ]
  },
  {
   "cell_type": "code",
   "execution_count": 1,
   "metadata": {},
   "outputs": [],
   "source": [
    "import numpy as np\n",
    "from sklearn.linear_model import LogisticRegression\n",
    "from sklearn.model_selection import train_test_split\n",
    "from sklearn.metrics import accuracy_score, confusion_matrix"
   ]
  },
  {
   "cell_type": "code",
   "execution_count": 2,
   "metadata": {},
   "outputs": [
    {
     "ename": "SyntaxError",
     "evalue": "'[' was never closed (541575950.py, line 10)",
     "output_type": "error",
     "traceback": [
      "\u001b[0;36m  Cell \u001b[0;32mIn[2], line 10\u001b[0;36m\u001b[0m\n\u001b[0;31m    y = np.array([label1, label2, # ... more binary risk labels])\u001b[0m\n\u001b[0m                 ^\u001b[0m\n\u001b[0;31mSyntaxError\u001b[0m\u001b[0;31m:\u001b[0m '[' was never closed\n"
     ]
    }
   ],
   "source": [
    "\n",
    "# Assuming you have a dataset with features and binary risk labels (0 or 1)\n",
    "# X represents features, y represents binary risk labels\n",
    "# Replace this with your actual dataset\n",
    "X = np.array([\n",
    "    [age1, age_at_first_arrest1, history_of_violence1, vocation_education1, history_of_noncompliance1],\n",
    "    [age2, age_at_first_arrest2, history_of_violence2, vocation_education2, history_of_noncompliance2],\n",
    "    # ... more samples\n",
    "])\n",
    "\n",
    "y = np.array([label1, label2, # ... more binary risk labels])\n",
    "\n",
    "# Split the data into training and testing sets\n",
    "X_train, X_test, y_train, y_test = train_test_split(X, y, test_size=0.2, random_state=42)\n",
    "\n",
    "# Create a logistic regression model\n",
    "model = LogisticRegression()\n",
    "\n",
    "# Train the model on the training data\n",
    "model.fit(X_train, y_train)\n",
    "\n",
    "# Make predictions on the test data\n",
    "y_pred = model.predict(X_test)\n",
    "\n",
    "# Evaluate the model's performance\n",
    "accuracy = accuracy_score(y_test, y_pred)\n",
    "conf_matrix = confusion_matrix(y_test, y_pred)\n",
    "\n",
    "print(f\"Accuracy: {accuracy}\")\n",
    "print(\"Confusion Matrix:\")\n",
    "print(conf_matrix)\n",
    "\n",
    "# Print the learned coefficients (weights)\n",
    "coefficients = model.coef_[0]\n",
    "intercept = model.intercept_[0]\n",
    "\n",
    "print(\"Learned Coefficients:\")\n",
    "for i, feature in enumerate([\"Age\", \"Age at First Arrest\", \"History of Violence\", \"Vocation Education\", \"History of Noncompliance\"]):\n",
    "    print(f\"{feature}: {coefficients[i]}\")\n",
    "\n",
    "print(f\"Intercept: {intercept}\")\n"
   ]
  }
 ],
 "metadata": {
  "kernelspec": {
   "display_name": "Python 3 (ipykernel)",
   "language": "python",
   "name": "python3"
  },
  "language_info": {
   "name": "python",
   "version": "3.11.3"
  }
 },
 "nbformat": 4,
 "nbformat_minor": 2
}
