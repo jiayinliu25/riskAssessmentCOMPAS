{
 "cells": [
  {
   "cell_type": "markdown",
   "metadata": {},
   "source": [
    "## Dataset Bias Mitigation: Resampling \n",
    "Oversampling or undersampling can help mitigate bias in machine learning models, especially when dealing with imbalanced datasets. \n",
    "\n",
    "1. The breakdown of gender in the dataset:\n",
    "```\n",
    "sex\n",
    "male     3743\n",
    "female    995\n",
    "```\n",
    "2. based on RFS, the top ranking feature that is the most important in predicting violent Recividism Score produced by COMPAS in the logistic regression are: \n",
    "```\n",
    "          Feature    Weight\n",
    "           0             sex  0.717787\n",
    "           2  juv_misd_count  0.563509\n",
    "```\n",
    "\n",
    "3. based on RFS, the two important feature in prediciting two year recividism collected by Prolific are:\n",
    "- Selected Features: ['sex', 'age_cat']\n",
    "- Accuracy: 0.8343881856540084\n",
    "\n",
    "\n",
    "\n"
   ]
  },
  {
   "cell_type": "code",
   "execution_count": 1,
   "metadata": {},
   "outputs": [],
   "source": [
    "import pandas as pd\n",
    "import numpy as np \n",
    "import matplotlib.pyplot as plt \n",
    "\n",
    "from sklearn.model_selection import train_test_split\n",
    "from sklearn.linear_model import LogisticRegression\n",
    "from sklearn.metrics import accuracy_score, classification_report, confusion_matrix\n",
    "from sklearn.preprocessing import LabelEncoder, OneHotEncoder\n",
    "\n",
    "from sklearn.utils import resample"
   ]
  },
  {
   "cell_type": "code",
   "execution_count": 2,
   "metadata": {},
   "outputs": [
    {
     "data": {
      "text/html": [
       "<div>\n",
       "<style scoped>\n",
       "    .dataframe tbody tr th:only-of-type {\n",
       "        vertical-align: middle;\n",
       "    }\n",
       "\n",
       "    .dataframe tbody tr th {\n",
       "        vertical-align: top;\n",
       "    }\n",
       "\n",
       "    .dataframe thead th {\n",
       "        text-align: right;\n",
       "    }\n",
       "</style>\n",
       "<table border=\"1\" class=\"dataframe\">\n",
       "  <thead>\n",
       "    <tr style=\"text-align: right;\">\n",
       "      <th></th>\n",
       "      <th>id</th>\n",
       "      <th>name</th>\n",
       "      <th>first</th>\n",
       "      <th>last</th>\n",
       "      <th>compas_screening_date</th>\n",
       "      <th>sex</th>\n",
       "      <th>dob</th>\n",
       "      <th>age</th>\n",
       "      <th>age_cat</th>\n",
       "      <th>race</th>\n",
       "      <th>...</th>\n",
       "      <th>v_score_text</th>\n",
       "      <th>v_screening_date</th>\n",
       "      <th>in_custody</th>\n",
       "      <th>out_custody</th>\n",
       "      <th>priors_count.1</th>\n",
       "      <th>start</th>\n",
       "      <th>end</th>\n",
       "      <th>event</th>\n",
       "      <th>two_year_recid</th>\n",
       "      <th>two_year_recid.1</th>\n",
       "    </tr>\n",
       "  </thead>\n",
       "  <tbody>\n",
       "    <tr>\n",
       "      <th>0</th>\n",
       "      <td>1</td>\n",
       "      <td>miguel hernandez</td>\n",
       "      <td>miguel</td>\n",
       "      <td>hernandez</td>\n",
       "      <td>2013-08-14</td>\n",
       "      <td>Male</td>\n",
       "      <td>1947-04-18</td>\n",
       "      <td>69</td>\n",
       "      <td>Greater than 45</td>\n",
       "      <td>Other</td>\n",
       "      <td>...</td>\n",
       "      <td>Low</td>\n",
       "      <td>2013-08-14</td>\n",
       "      <td>2014-07-07</td>\n",
       "      <td>2014-07-14</td>\n",
       "      <td>0</td>\n",
       "      <td>0</td>\n",
       "      <td>327</td>\n",
       "      <td>0</td>\n",
       "      <td>0</td>\n",
       "      <td>0</td>\n",
       "    </tr>\n",
       "    <tr>\n",
       "      <th>1</th>\n",
       "      <td>3</td>\n",
       "      <td>kevon dixon</td>\n",
       "      <td>kevon</td>\n",
       "      <td>dixon</td>\n",
       "      <td>2013-01-27</td>\n",
       "      <td>Male</td>\n",
       "      <td>1982-01-22</td>\n",
       "      <td>34</td>\n",
       "      <td>25 - 45</td>\n",
       "      <td>African-American</td>\n",
       "      <td>...</td>\n",
       "      <td>Low</td>\n",
       "      <td>2013-01-27</td>\n",
       "      <td>2013-01-26</td>\n",
       "      <td>2013-02-05</td>\n",
       "      <td>0</td>\n",
       "      <td>9</td>\n",
       "      <td>159</td>\n",
       "      <td>1</td>\n",
       "      <td>1</td>\n",
       "      <td>1</td>\n",
       "    </tr>\n",
       "    <tr>\n",
       "      <th>2</th>\n",
       "      <td>5</td>\n",
       "      <td>marcu brown</td>\n",
       "      <td>marcu</td>\n",
       "      <td>brown</td>\n",
       "      <td>2013-01-13</td>\n",
       "      <td>Male</td>\n",
       "      <td>1993-01-21</td>\n",
       "      <td>23</td>\n",
       "      <td>Less than 25</td>\n",
       "      <td>African-American</td>\n",
       "      <td>...</td>\n",
       "      <td>Medium</td>\n",
       "      <td>2013-01-13</td>\n",
       "      <td>NaN</td>\n",
       "      <td>NaN</td>\n",
       "      <td>1</td>\n",
       "      <td>0</td>\n",
       "      <td>1174</td>\n",
       "      <td>0</td>\n",
       "      <td>0</td>\n",
       "      <td>0</td>\n",
       "    </tr>\n",
       "    <tr>\n",
       "      <th>3</th>\n",
       "      <td>6</td>\n",
       "      <td>bouthy pierrelouis</td>\n",
       "      <td>bouthy</td>\n",
       "      <td>pierrelouis</td>\n",
       "      <td>2013-03-26</td>\n",
       "      <td>Male</td>\n",
       "      <td>1973-01-22</td>\n",
       "      <td>43</td>\n",
       "      <td>25 - 45</td>\n",
       "      <td>Other</td>\n",
       "      <td>...</td>\n",
       "      <td>Low</td>\n",
       "      <td>2013-03-26</td>\n",
       "      <td>NaN</td>\n",
       "      <td>NaN</td>\n",
       "      <td>2</td>\n",
       "      <td>0</td>\n",
       "      <td>1102</td>\n",
       "      <td>0</td>\n",
       "      <td>0</td>\n",
       "      <td>0</td>\n",
       "    </tr>\n",
       "    <tr>\n",
       "      <th>4</th>\n",
       "      <td>7</td>\n",
       "      <td>marsha miles</td>\n",
       "      <td>marsha</td>\n",
       "      <td>miles</td>\n",
       "      <td>2013-11-30</td>\n",
       "      <td>Male</td>\n",
       "      <td>1971-08-22</td>\n",
       "      <td>44</td>\n",
       "      <td>25 - 45</td>\n",
       "      <td>Other</td>\n",
       "      <td>...</td>\n",
       "      <td>Low</td>\n",
       "      <td>2013-11-30</td>\n",
       "      <td>2013-11-30</td>\n",
       "      <td>2013-12-01</td>\n",
       "      <td>0</td>\n",
       "      <td>1</td>\n",
       "      <td>853</td>\n",
       "      <td>0</td>\n",
       "      <td>0</td>\n",
       "      <td>0</td>\n",
       "    </tr>\n",
       "  </tbody>\n",
       "</table>\n",
       "<p>5 rows × 54 columns</p>\n",
       "</div>"
      ],
      "text/plain": [
       "   id                name   first         last compas_screening_date   sex  \\\n",
       "0   1    miguel hernandez  miguel    hernandez            2013-08-14  Male   \n",
       "1   3         kevon dixon   kevon        dixon            2013-01-27  Male   \n",
       "2   5         marcu brown   marcu        brown            2013-01-13  Male   \n",
       "3   6  bouthy pierrelouis  bouthy  pierrelouis            2013-03-26  Male   \n",
       "4   7        marsha miles  marsha        miles            2013-11-30  Male   \n",
       "\n",
       "          dob  age          age_cat              race  ...  v_score_text  \\\n",
       "0  1947-04-18   69  Greater than 45             Other  ...           Low   \n",
       "1  1982-01-22   34          25 - 45  African-American  ...           Low   \n",
       "2  1993-01-21   23     Less than 25  African-American  ...        Medium   \n",
       "3  1973-01-22   43          25 - 45             Other  ...           Low   \n",
       "4  1971-08-22   44          25 - 45             Other  ...           Low   \n",
       "\n",
       "   v_screening_date  in_custody  out_custody  priors_count.1  start   end  \\\n",
       "0        2013-08-14  2014-07-07   2014-07-14               0      0   327   \n",
       "1        2013-01-27  2013-01-26   2013-02-05               0      9   159   \n",
       "2        2013-01-13         NaN          NaN               1      0  1174   \n",
       "3        2013-03-26         NaN          NaN               2      0  1102   \n",
       "4        2013-11-30  2013-11-30   2013-12-01               0      1   853   \n",
       "\n",
       "  event two_year_recid two_year_recid.1  \n",
       "0     0              0                0  \n",
       "1     1              1                1  \n",
       "2     0              0                0  \n",
       "3     0              0                0  \n",
       "4     0              0                0  \n",
       "\n",
       "[5 rows x 54 columns]"
      ]
     },
     "execution_count": 2,
     "metadata": {},
     "output_type": "execute_result"
    }
   ],
   "source": [
    "compas = pd.read_csv('data/compas-scores-two-years-violent.csv')\n",
    "compas.head()"
   ]
  },
  {
   "cell_type": "code",
   "execution_count": 3,
   "metadata": {},
   "outputs": [],
   "source": [
    "compas['c_jail_in'] = pd.to_datetime(compas['c_jail_in'], format='mixed')\n",
    "compas['c_jail_out'] = pd.to_datetime(compas['c_jail_out'], format='mixed')\n",
    "\n",
    "compas['v_screening_date'] = pd.to_datetime(compas['v_screening_date'], format='mixed')\n",
    "compas['vr_offense_date'] = pd.to_datetime(compas['vr_offense_date'], format='mixed')\n",
    "\n",
    "compas['c_offense_date'] = pd.to_datetime(compas['c_offense_date'], format='mixed')\n",
    "compas['c_arrest_date'] = pd.to_datetime(compas['c_arrest_date'], format='mixed')\n",
    "\n",
    "compas['compas_screening_date'] = pd.to_datetime(compas['compas_screening_date'], format='mixed')"
   ]
  },
  {
   "cell_type": "code",
   "execution_count": 4,
   "metadata": {},
   "outputs": [],
   "source": [
    "compas = compas.drop(['first','last','c_case_number','c_charge_degree', 'c_charge_desc', 'r_case_number','r_charge_degree','vr_case_number','vr_charge_degree','start','end','event'],axis=1)\n",
    "\n",
    "#remove row with nan scores \n",
    "compas = compas.loc[compas['score_text'].notnull()]\n",
    "#clean out the \"-1\" decile score from dataset \n",
    "compas = compas.loc[compas['v_decile_score'] != -1]\n",
    "\n",
    "#label encodimg\n",
    "compas['sex'] = compas['sex'].replace({'Male': 1, 'Female': 0})\n",
    "compas['score_text'] = compas['score_text'].replace({'Low':0, 'Medium':1, 'High': 2})\n",
    "\n",
    "#days in jail\n",
    "compas['jail_out- jail_in'] = (compas['c_jail_out'] - compas['c_jail_in']).dt.days"
   ]
  },
  {
   "cell_type": "markdown",
   "metadata": {},
   "source": [
    "## Resampling: Oversampling the Minority Races to match with the top race "
   ]
  },
  {
   "cell_type": "code",
   "execution_count": 7,
   "metadata": {},
   "outputs": [
    {
     "data": {
      "text/plain": [
       "race\n",
       "African-American    2266\n",
       "Caucasian           1697\n",
       "Hispanic             458\n",
       "Other                279\n",
       "Asian                 27\n",
       "Native American       11\n",
       "Name: count, dtype: int64"
      ]
     },
     "execution_count": 7,
     "metadata": {},
     "output_type": "execute_result"
    }
   ],
   "source": [
    "compas_race = compas['race'].value_counts()\n",
    "compas_race"
   ]
  },
  {
   "cell_type": "code",
   "execution_count": 11,
   "metadata": {},
   "outputs": [
    {
     "data": {
      "text/plain": [
       "race\n",
       "African-American    2266\n",
       "Caucasian           2266\n",
       "Hispanic             458\n",
       "Other                279\n",
       "Asian                 27\n",
       "Name: count, dtype: int64"
      ]
     },
     "execution_count": 11,
     "metadata": {},
     "output_type": "execute_result"
    }
   ],
   "source": [
    "compas_race = compas['race'].value_counts()\n",
    "target_count = compas_race.max()\n",
    "\n",
    "african_american = compas[compas['race'] == 'African-American']\n",
    "caucasian = compas[compas['race'] == 'Caucasian']\n",
    "hispanic = compas[compas['race'] == 'Hispanic']\n",
    "other = compas[compas['race'] == 'Other']\n",
    "asian = compas[compas['race'] == 'Asian']\n",
    "native_american = compas[compas['race'] == ' Native American']\n",
    "\n",
    "\n",
    "african_american_r = resample(african_american, replace=True, n_samples=target_count)\n",
    "caucasian_r = resample(caucasian, replace=True, n_samples=target_count)\n",
    "#hispanic_r = resample(hispanic, replace=True, n_samples=target_count)\n",
    "\n",
    "compas_resampled = pd.concat([african_american_r,caucasian_r, hispanic, other,asian, native_american])\n",
    "compas_resampled = compas_resampled.sample(frac=1, random_state=42).reset_index(drop=True)\n",
    "\n",
    "compas_resampled['race'].value_counts()"
   ]
  },
  {
   "cell_type": "code",
   "execution_count": 14,
   "metadata": {},
   "outputs": [],
   "source": [
    "compas_resampled.to_csv('oversample_t2.csv', index=False)"
   ]
  },
  {
   "cell_type": "markdown",
   "metadata": {},
   "source": [
    "## Resampling: Undersample "
   ]
  },
  {
   "cell_type": "code",
   "execution_count": 17,
   "metadata": {},
   "outputs": [
    {
     "data": {
      "text/plain": [
       "458"
      ]
     },
     "execution_count": 17,
     "metadata": {},
     "output_type": "execute_result"
    }
   ],
   "source": [
    "ret = compas['race'].value_counts()\n",
    "ret['Caucasian']"
   ]
  },
  {
   "cell_type": "code",
   "execution_count": 20,
   "metadata": {},
   "outputs": [
    {
     "name": "stdout",
     "output_type": "stream",
     "text": [
      "1697\n"
     ]
    },
    {
     "data": {
      "text/plain": [
       "race\n",
       "African-American    1697\n",
       "Caucasian           1697\n",
       "Hispanic             458\n",
       "Other                279\n",
       "Asian                 27\n",
       "Name: count, dtype: int64"
      ]
     },
     "execution_count": 20,
     "metadata": {},
     "output_type": "execute_result"
    }
   ],
   "source": [
    "compas_race = compas['race'].value_counts()\n",
    "target_count = compas_race['Caucasian']\n",
    "print(target_count)\n",
    "african_american = compas[compas['race'] == 'African-American']\n",
    "caucasian = compas[compas['race'] == 'Caucasian']\n",
    "hispanic = compas[compas['race'] == 'Hispanic']\n",
    "other = compas[compas['race'] == 'Other']\n",
    "asian = compas[compas['race'] == 'Asian']\n",
    "native_american = compas[compas['race'] == ' Native American']\n",
    "\n",
    "\n",
    "african_american_r = resample(african_american, replace=True, n_samples=target_count)\n",
    "#caucasian_r = resample(caucasian, replace=True, n_samples=target_count)\n",
    "#hispanic_r = resample(hispanic, replace=True, n_samples=target_count)\n",
    "\n",
    "compas_resampled = pd.concat([african_american_r,caucasian, hispanic, other,asian, native_american])\n",
    "compas_resampled = compas_resampled.sample(frac=1, random_state=42).reset_index(drop=True)\n",
    "\n",
    "compas_resampled['race'].value_counts()"
   ]
  },
  {
   "cell_type": "code",
   "execution_count": 21,
   "metadata": {},
   "outputs": [],
   "source": [
    "compas_resampled.to_csv('undersample_t2.csv', index=False)"
   ]
  },
  {
   "cell_type": "markdown",
   "metadata": {},
   "source": [
    "### Resampling: Gender \n"
   ]
  },
  {
   "cell_type": "code",
   "execution_count": 23,
   "metadata": {},
   "outputs": [
    {
     "data": {
      "text/plain": [
       "sex\n",
       "1    3743\n",
       "0     995\n",
       "Name: count, dtype: int64"
      ]
     },
     "execution_count": 23,
     "metadata": {},
     "output_type": "execute_result"
    }
   ],
   "source": [
    "compas['sex'].value_counts()"
   ]
  },
  {
   "cell_type": "code",
   "execution_count": 34,
   "metadata": {},
   "outputs": [
    {
     "data": {
      "text/plain": [
       "sex\n",
       "1    2369\n",
       "0    2369\n",
       "Name: count, dtype: int64"
      ]
     },
     "execution_count": 34,
     "metadata": {},
     "output_type": "execute_result"
    }
   ],
   "source": [
    "compas_sex = compas['sex'].value_counts()\n",
    "target = compas_sex.sum() //2\n",
    "\n",
    "male = compas[compas['sex'] == 1]\n",
    "female = compas[compas['sex'] == 0]\n",
    "\n",
    "male_r = resample(male, replace=True, n_samples=target)\n",
    "female_r = resample(female, replace=True, n_samples=target)\n",
    "compas_sex_resample = pd.concat([male_r, female_r])\n",
    "compas_sex_resample = compas_sex_resample.sample(frac=1, random_state=42).reset_index(drop=True)\n",
    "compas_sex_resample['sex'].value_counts()\n",
    "\n",
    "#compas_sex_resample.to_csv('combined_resample.csv',index=False)"
   ]
  },
  {
   "cell_type": "code",
   "execution_count": 44,
   "metadata": {},
   "outputs": [
    {
     "data": {
      "text/plain": [
       "sex\n",
       "1    995\n",
       "0    995\n",
       "Name: count, dtype: int64"
      ]
     },
     "execution_count": 44,
     "metadata": {},
     "output_type": "execute_result"
    }
   ],
   "source": [
    "compas_sex = compas['sex'].value_counts()\n",
    "target = compas_sex.min()\n",
    "\n",
    "male = compas[compas['sex'] == 1]\n",
    "female = compas[compas['sex'] == 0]\n",
    "\n",
    "male_r = resample(male, replace=True, n_samples=target)\n",
    "female_r = resample(female, replace=True, n_samples=target)\n",
    "compas_sex_resample = pd.concat([male_r, female_r])\n",
    "compas_sex_resample = compas_sex_resample.sample(frac=1, random_state=42).reset_index(drop=True)\n",
    "compas_sex_resample['sex'].value_counts()\n",
    "\n",
    "#compas_sex_resample.to_csv('under_resample.csv',index=False)"
   ]
  },
  {
   "cell_type": "code",
   "execution_count": null,
   "metadata": {},
   "outputs": [],
   "source": [
    "compas_sex = compas['sex'].value_counts()\n",
    "target = compas_sex.max()\n",
    "\n",
    "male = compas[compas['sex'] == 1]\n",
    "female = compas[compas['sex'] == 0]\n",
    "\n",
    "male_r = resample(male, replace=True, n_samples=target)\n",
    "female_r = resample(female, replace=True, n_samples=target)\n",
    "compas_sex_resample = pd.concat([male_r, female_r])\n",
    "compas_sex_resample = compas_sex_resample.sample(frac=1, random_state=42).reset_index(drop=True)\n",
    "compas_sex_resample['sex'].value_counts()\n",
    "\n",
    "#compas_sex_resample.to_csv('under_resample.csv',index=False)"
   ]
  }
 ],
 "metadata": {
  "kernelspec": {
   "display_name": "Python 3 (ipykernel)",
   "language": "python",
   "name": "python3"
  },
  "language_info": {
   "codemirror_mode": {
    "name": "ipython",
    "version": 3
   },
   "file_extension": ".py",
   "mimetype": "text/x-python",
   "name": "python",
   "nbconvert_exporter": "python",
   "pygments_lexer": "ipython3",
   "version": "3.10.8"
  }
 },
 "nbformat": 4,
 "nbformat_minor": 2
}
